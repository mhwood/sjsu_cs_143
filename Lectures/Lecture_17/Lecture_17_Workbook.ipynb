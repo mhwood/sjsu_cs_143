{
 "cells": [
  {
   "cell_type": "markdown",
   "metadata": {},
   "source": [
    "# Lecture 17: (Fast) Fourier Transform: Part 1"
   ]
  },
  {
   "cell_type": "markdown",
   "metadata": {},
   "source": [
    "First, we will load the Python packages which will be used in this demo:"
   ]
  },
  {
   "cell_type": "code",
   "execution_count": null,
   "metadata": {},
   "outputs": [],
   "source": [
    "from ipywidgets import interact, interactive, fixed, interact_manual\n",
    "import ipywidgets as widgets\n",
    "import numpy as np\n",
    "import matplotlib.pyplot as plt\n",
    "from scipy.fft import rfft,rfftfreq\n",
    "from pandas import read_csv"
   ]
  },
  {
   "cell_type": "markdown",
   "metadata": {},
   "source": [
    "## Activity 1: Exploring time and frequency space\n",
    "In this activity, well test how the Fourier transform modifies functions constructed from combinations of simple sinusoidal curves."
   ]
  },
  {
   "cell_type": "markdown",
   "metadata": {},
   "source": [
    "First, define a function to apply the Fourier Transform to a timeseries, and plot a comparison between the two:"
   ]
  },
  {
   "cell_type": "code",
   "execution_count": null,
   "metadata": {},
   "outputs": [],
   "source": [
    "def calculate_and_plot_fft_example(a1,f1,a2,f2,a3,f3):\n",
    "    # generate the time array\n",
    "    n_timesteps = 1000\n",
    "    timestep = (2*np.pi)/n_timesteps # seconds\n",
    "    max_time = n_timesteps*timestep # seconds\n",
    "    time = np.arange(0, max_time, timestep) # seconds\n",
    "    max_frequency = 1/(n_timesteps*timestep) # Hz\n",
    "    \n",
    "    # make the sin curves\n",
    "    y_1 = a1*np.sin(f1*time) # meters\n",
    "    y_2 = a2*np.sin(f2*time) # meters\n",
    "    y_3 = a3*np.sin(f3*time) # meters\n",
    "    y = y_1 + y_2 + y_3\n",
    "    \n",
    "    # apply FFT to curve\n",
    "    y_fft = np.abs(rfft(y)) # meters\n",
    "    x_fft = rfftfreq(np.size(y),timestep) # Hz\n",
    "    \n",
    "    # apply some scalings for an intuitive plot\n",
    "    y_fft_scaled = y_fft/(len(time)/2)\n",
    "    cycles = x_fft/max_frequency\n",
    "    \n",
    "    # make a figure\n",
    "    plt.figure(figsize=(15,4))\n",
    "    plt.subplot(1,2,1)\n",
    "    plt.plot(time,y,linewidth=3)\n",
    "    plt.ylabel('Amplitude (m)',fontsize=14)\n",
    "    plt.xlabel('Time',fontsize=14)\n",
    "    plt.grid(linestyle='--',alpha=0.4)\n",
    "    plt.title('Signal',fontsize=17)\n",
    "    plt.xticks([0,np.pi/2,np.pi,3*np.pi/2,2*np.pi],fontsize=14)\n",
    "    plt.gca().set_xticklabels([0,'$\\pi/2$','$\\pi$','$3\\pi/2$','$2\\pi$'])\n",
    "    plt.yticks(fontsize=14)\n",
    "    \n",
    "    plt.subplot(1,2,2)\n",
    "    plt.bar(cycles,y_fft_scaled)\n",
    "    plt.ylabel('Amplitude (m)',fontsize=14)\n",
    "    plt.xlabel('Cycles',fontsize=14)\n",
    "    plt.grid(linestyle='--',alpha=0.4)\n",
    "    plt.xlim([-1,10+1]) # note: 10 is the max multiplier of y1\n",
    "    plt.xticks(np.arange(11),fontsize=14)\n",
    "    plt.yticks(fontsize=14)\n",
    "    plt.title('Fourier Transform',fontsize=17)\n",
    "    plt.show()"
   ]
  },
  {
   "cell_type": "markdown",
   "metadata": {},
   "source": [
    "Using the Python function above, we can apply the FFT algorithm on an example function over a 2$\\pi$ interval:\n",
    "\n",
    "$$\n",
    "y(t) = a_1\\text{sin}\\left(f_1 t\\right) + a_2\\text{sin}\\left(f_2 t\\right) + a_3\\text{sin}\\left(f_3 t\\right)\n",
    "$$\n",
    "\n",
    "### Check your mathematical intuition!\n",
    "Before we plot the function above, can you visualize what it will look like?"
   ]
  },
  {
   "cell_type": "code",
   "execution_count": null,
   "metadata": {},
   "outputs": [],
   "source": [
    "interact(calculate_and_plot_fft_example,\n",
    "         a1=widgets.IntSlider(min=0, max=10, step=1, value=1),\n",
    "         f1=widgets.IntSlider(min=0, max=10, step=1, value=1),\n",
    "         a2=widgets.IntSlider(min=0, max=10, step=1, value=0),\n",
    "         f2=widgets.IntSlider(min=0, max=10, step=1, value=0),\n",
    "         a3=widgets.FloatSlider(min=0, max=1, step=0.1, value=0),\n",
    "         f3=widgets.IntSlider(min=0, max=10, step=1, value=0));"
   ]
  },
  {
   "cell_type": "markdown",
   "metadata": {},
   "source": [
    "#### Questions for exploration\n",
    "1. How does varying the period $p_1$ affect the signal? its FT?\n",
    "2. How does varying the amplitude $a_1$ affect the signal? its FT?\n",
    "3. How does the signal vary when a second curve is added? its FT?\n",
    "4. How does the signal vary when a third curve is added? its FT?"
   ]
  },
  {
   "cell_type": "code",
   "execution_count": null,
   "metadata": {},
   "outputs": [],
   "source": []
  },
  {
   "cell_type": "code",
   "execution_count": null,
   "metadata": {},
   "outputs": [],
   "source": []
  },
  {
   "cell_type": "code",
   "execution_count": null,
   "metadata": {},
   "outputs": [],
   "source": []
  },
  {
   "cell_type": "code",
   "execution_count": null,
   "metadata": {},
   "outputs": [],
   "source": []
  },
  {
   "cell_type": "code",
   "execution_count": null,
   "metadata": {},
   "outputs": [],
   "source": []
  },
  {
   "cell_type": "code",
   "execution_count": null,
   "metadata": {},
   "outputs": [],
   "source": []
  },
  {
   "cell_type": "markdown",
   "metadata": {},
   "source": [
    "## Activity 2: Using FFT with real data\n",
    "Next, we'll apply the fourier transform to a real dataset and explore what the frequency space can tell us about the data. \n",
    "\n",
    "In this example, we will use example tide data from a local tide guage in Monterey, CA. The tide data is provided in this repository in the file `Monterey_Tide_Data.csv` obtained from https://tidesandcurrents.noaa.gov/harcon.html?id=9413450. \n",
    "\n",
    "\n",
    "First, read in the tide data as a numpy array:"
   ]
  },
  {
   "cell_type": "code",
   "execution_count": null,
   "metadata": {},
   "outputs": [],
   "source": [
    "df = read_csv('Monterey_Tide_Data.csv', header=0, parse_dates=[['Date', 'Time (GMT)']])\n",
    "print(df.head())"
   ]
  },
  {
   "cell_type": "markdown",
   "metadata": {},
   "source": [
    "## Plot the data\n",
    "It's always a good idea to visualize the data you're working with. Start by making a plot of the tide data:"
   ]
  },
  {
   "cell_type": "code",
   "execution_count": null,
   "metadata": {},
   "outputs": [],
   "source": [
    "fig = plt.figure(figsize=(15,4))\n",
    "\n",
    "# make a plot of all the data\n",
    "plt.subplot(1,2,1)\n",
    "plt.plot(df['Date_Time (GMT)'],df['Height (ft)'],'-',linewidth=1)\n",
    "plt.title('1 month of tide data',fontsize=17)\n",
    "plt.xticks(rotation=90,fontsize=14)\n",
    "plt.yticks(fontsize=14)\n",
    "plt.ylabel('Sea Surface Height (ft)',fontsize=14)\n",
    "\n",
    "# make a plot of just the first few days\n",
    "plt.subplot(1,2,2)\n",
    "plt.plot(df['Date_Time (GMT)'][:10*24*1],df['Height (ft)'][:10*24*1],'.',linewidth=1)\n",
    "plt.title('1 day of tide data',fontsize=17)\n",
    "plt.xticks(rotation=90,fontsize=14)\n",
    "plt.yticks(fontsize=14)\n",
    "plt.ylabel('Sea Surface Height (ft)',fontsize=14)\n",
    "\n",
    "plt.show()"
   ]
  },
  {
   "cell_type": "markdown",
   "metadata": {},
   "source": [
    "## Apply the Fourier Transform and Make a Plot"
   ]
  },
  {
   "cell_type": "code",
   "execution_count": null,
   "metadata": {},
   "outputs": [],
   "source": [
    "### type your code here using's scipy's rfft and rfftfreq functions\n",
    "### note that the tide data is provided every 6 minutes\n",
    "\n",
    "# read in the data\n",
    "tide_height = df['Height (ft)'].values\n",
    "N_data_points = df['Height (ft)'].size\n",
    "time_between_samples = 6*60 # 6 minutes, expressed in seconds\n",
    "\n",
    "### apply the FFT\n",
    "y = rfft(sample_amplitude)\n",
    "x = rfftfreq(N_samples,sample_period)\n",
    "\n",
    "### make a plot\n",
    "plt.plot(x,y)\n",
    "plt.show()"
   ]
  },
  {
   "cell_type": "code",
   "execution_count": null,
   "metadata": {},
   "outputs": [],
   "source": []
  },
  {
   "cell_type": "code",
   "execution_count": null,
   "metadata": {},
   "outputs": [],
   "source": []
  },
  {
   "cell_type": "code",
   "execution_count": null,
   "metadata": {},
   "outputs": [],
   "source": []
  },
  {
   "cell_type": "code",
   "execution_count": null,
   "metadata": {},
   "outputs": [],
   "source": []
  },
  {
   "cell_type": "code",
   "execution_count": null,
   "metadata": {},
   "outputs": [],
   "source": []
  },
  {
   "cell_type": "code",
   "execution_count": null,
   "metadata": {},
   "outputs": [],
   "source": []
  },
  {
   "cell_type": "code",
   "execution_count": null,
   "metadata": {},
   "outputs": [],
   "source": []
  },
  {
   "cell_type": "code",
   "execution_count": null,
   "metadata": {},
   "outputs": [],
   "source": []
  },
  {
   "cell_type": "code",
   "execution_count": null,
   "metadata": {},
   "outputs": [],
   "source": []
  },
  {
   "cell_type": "code",
   "execution_count": null,
   "metadata": {},
   "outputs": [],
   "source": []
  },
  {
   "cell_type": "code",
   "execution_count": null,
   "metadata": {},
   "outputs": [],
   "source": []
  },
  {
   "cell_type": "markdown",
   "metadata": {},
   "source": [
    "### Possible Solutions to Activity 2"
   ]
  },
  {
   "cell_type": "markdown",
   "metadata": {},
   "source": [
    "This is a solution to Activity 2 prior to scaling:"
   ]
  },
  {
   "cell_type": "code",
   "execution_count": null,
   "metadata": {},
   "outputs": [],
   "source": [
    "### type your code here using's scipy's rfft and rfftfreq functions\n",
    "### note that the tide data is provided every 6 minutes\n",
    "\n",
    "# read in the data\n",
    "tide_height = df['Height (ft)'].values\n",
    "N_data_points = df['Height (ft)'].size\n",
    "time_between_samples = 6*60 # 6 minutes, expressed in seconds\n",
    "\n",
    "### apply the FFT\n",
    "y = rfft(tide_height)\n",
    "x = rfftfreq(N_data_points, time_between_samples)\n",
    "\n",
    "### make a plot\n",
    "plt.plot(x,y)\n",
    "plt.show()"
   ]
  },
  {
   "cell_type": "markdown",
   "metadata": {},
   "source": [
    "### Another Possible Solution to Activity 2\n",
    "\n",
    "This is another possible solution after scaling"
   ]
  },
  {
   "cell_type": "code",
   "execution_count": null,
   "metadata": {},
   "outputs": [],
   "source": [
    "### type your code here using's scipy's rfft and rfftfreq functions\n",
    "### note that the tide data is provided every 6 minutes\n",
    "\n",
    "# read in the data\n",
    "tide_height = df['Height (ft)'].values\n",
    "N_data_points = df['Height (ft)'].size\n",
    "time_between_samples = 6*60 # 6 minutes, expressed in seconds\n",
    "\n",
    "### apply the FFT\n",
    "y = rfft(tide_height)\n",
    "#y = np.abs(rfft(tide_height))\n",
    "x = rfftfreq(N_data_points, time_between_samples)\n",
    "\n",
    "# remove the frequency at 0 Hz\n",
    "#x = x[1:]\n",
    "#y = y[1:]\n",
    "\n",
    "### scale the x and y values\n",
    "# x values are in units of 1/seconds\n",
    "#x = x * 60 * 60 # convert to 1/hours\n",
    "#if plotting with period\n",
    "#x = 1/x\n",
    "#y = y / (N_data_points/2)\n",
    "\n",
    "### make a plot\n",
    "plt.plot(x,y)\n",
    "#if a bar plot is desired\n",
    "#widths = np.diff(x)\n",
    "#widths = np.concatenate([widths,widths[-1:]])\n",
    "#plt.bar(x,y,width=widths,ecolor='k')\n",
    "\n",
    "#if plotting with frequency\n",
    "#plt.gca().set_xlim([0,0.1])\n",
    "#plt.xlabel('Frequency (1/hour)')\n",
    "\n",
    "#if plotting with period\n",
    "#plt.gca().set_xlim([8,30])\n",
    "#plt.xlabel('Period (hour)')\n",
    "\n",
    "plt.ylabel('Amplitude (ft)')\n",
    "plt.show()"
   ]
  },
  {
   "cell_type": "code",
   "execution_count": null,
   "metadata": {},
   "outputs": [],
   "source": []
  }
 ],
 "metadata": {
  "kernelspec": {
   "display_name": "sjsu_demo",
   "language": "python",
   "name": "sjsu_demo"
  },
  "language_info": {
   "codemirror_mode": {
    "name": "ipython",
    "version": 3
   },
   "file_extension": ".py",
   "mimetype": "text/x-python",
   "name": "python",
   "nbconvert_exporter": "python",
   "pygments_lexer": "ipython3",
   "version": "3.8.5"
  }
 },
 "nbformat": 4,
 "nbformat_minor": 4
}
